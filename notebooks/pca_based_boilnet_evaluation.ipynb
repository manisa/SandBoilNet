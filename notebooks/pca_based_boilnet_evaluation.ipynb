{
 "cells": [
  {
   "cell_type": "code",
   "execution_count": 1,
   "id": "6b797404",
   "metadata": {},
   "outputs": [
    {
     "name": "stderr",
     "output_type": "stream",
     "text": [
      "2023-03-23 14:21:19.610699: I tensorflow/core/platform/cpu_feature_guard.cc:193] This TensorFlow binary is optimized with oneAPI Deep Neural Network Library (oneDNN) to use the following CPU instructions in performance-critical operations:  SSE4.1 SSE4.2 AVX AVX2 FMA\n",
      "To enable them in other operations, rebuild TensorFlow with the appropriate compiler flags.\n"
     ]
    },
    {
     "name": "stdout",
     "output_type": "stream",
     "text": [
      "TensorFlow version: 2.10.0\n",
      "Keras version: 2.10.0\n",
      "Eager mode enabled: True\n",
      "Num GPUs Available:  1\n",
      "Num CPUs Available:  1\n"
     ]
    }
   ],
   "source": [
    "import os\n",
    "from glob import glob\n",
    "os.environ[\"CUDA_VISIBLE_DEVICES\"]=\"3\"\n",
    "import sys; sys.path.insert(0, '..') # add parent folder path where lib folder is\n",
    "import lib.metrics\n",
    "import lib.load_data\n",
    "import lib.evaluate\n",
    "\n",
    "from lib.evaluate import testModel\n",
    "from lib.load_data import get_data\n",
    "\n",
    "import tensorflow as tf\n",
    "import tensorflow_addons as tfa\n",
    "#from tensorflow import keras\n",
    "from tensorflow.keras import backend as K\n",
    "from tensorflow.keras.models import Model, model_from_json\n",
    "from sklearn.model_selection import train_test_split\n",
    "\n",
    "\n",
    "print('TensorFlow version: {version}'.format(version=tf.__version__))\n",
    "print('Keras version: {version}'.format(version=tf.keras.__version__))\n",
    "print('Eager mode enabled: {mode}'.format(mode=tf.executing_eagerly()))\n",
    "print(\"Num GPUs Available: \", len(tf.config.list_physical_devices('GPU')))\n",
    "print(\"Num CPUs Available: \", len(tf.config.list_physical_devices('CPU')))"
   ]
  },
  {
   "cell_type": "code",
   "execution_count": 2,
   "id": "773d2001",
   "metadata": {},
   "outputs": [
    {
     "name": "stdout",
     "output_type": "stream",
     "text": [
      "/home/mpanta1/workspace/dissertation_work/code/overall_sandboil_experiments\n",
      "(51, 256, 256, 3)\n",
      "Getting and resizing images ... \n"
     ]
    },
    {
     "name": "stderr",
     "output_type": "stream",
     "text": [
      "100%|███████████████████████████████████████████| 51/51 [01:06<00:00,  1.30s/it]"
     ]
    },
    {
     "name": "stdout",
     "output_type": "stream",
     "text": [
      "Done!\n",
      "(51, 256, 256, 3)\n"
     ]
    },
    {
     "name": "stderr",
     "output_type": "stream",
     "text": [
      "\n"
     ]
    }
   ],
   "source": [
    "height = 256\n",
    "width = 256\n",
    "\n",
    "root_dir = os.path.normpath(os.getcwd() + os.sep + os.pardir +os.sep + os.pardir)\n",
    "print(root_dir)\n",
    "path_test_levee = os.path.join(root_dir,  \"datasets\", \"original_dataset\", \"test\")\n",
    "\n",
    "\n",
    "test_images_levee = sorted(next(os.walk(path_test_levee + \"/images\"))[2])\n",
    "\n",
    "X_test, Y_test = get_data(test_images_levee, path_test_levee, height, width, train=True)\n"
   ]
  },
  {
   "cell_type": "code",
   "execution_count": 3,
   "id": "b5c8d00d",
   "metadata": {},
   "outputs": [],
   "source": [
    "class PCALayer(tf.keras.layers.Layer):\n",
    "    def __init__(self, n_components, **kwargs):\n",
    "        super(PCALayer, self).__init__(**kwargs)\n",
    "        self.n_components = n_components\n",
    "\n",
    "    def build(self, input_shape):\n",
    "        self.shape = input_shape\n",
    "        self.input_dim = int(input_shape[-1])\n",
    "        self.kernel = self.add_weight(name='kernel',\n",
    "                                      shape=(self.input_dim, self.n_components), dtype=\"float32\",\n",
    "                                      initializer='glorot_uniform',\n",
    "                                      trainable=False)\n",
    "\n",
    "    def call(self, x):\n",
    "        # Flatten the input tensor\n",
    "        #x = tf.linalg.normalize(x,axis=-1)\n",
    "        #print(x.shape)\n",
    "        # assumption is that the feature vector is normalized\n",
    "        #x = tf.math.l2_normalize(x, axis=-1)\n",
    "        batch_size = tf.shape(x)[0]\n",
    "        flattened = tf.reshape(x, [batch_size, -1, self.input_dim])\n",
    "       \n",
    "        # Compute the mean and subtract it from the input tensor\n",
    "        mean = tf.reduce_mean(flattened, axis=1, keepdims=True)\n",
    "        centered = flattened - mean\n",
    "       \n",
    "\n",
    "        # Compute the covariance matrix\n",
    "        cov = tf.matmul(centered, centered, transpose_a=True) / tf.cast(tf.shape(flattened)[1] - 1, tf.float32)\n",
    "\n",
    "        # Compute the eigenvalues and eigenvectors of the covariance matrix\n",
    "        eigenvalues, eigenvectors = tf.linalg.eigh(cov)\n",
    "        \n",
    "        # Sort the eigenvectors based on the eigenvalues\n",
    "        idx = tf.argsort(eigenvalues, axis=-1, direction='DESCENDING')\n",
    "        top_eigenvectors = tf.gather(eigenvectors, idx, batch_dims=1, axis=-1)\n",
    "        top_eigenvectors = top_eigenvectors[:, :, :self.n_components]\n",
    "\n",
    "        # Transpose the eigenvectors to match the input shape\n",
    "        top_eigenvectors = tf.transpose(top_eigenvectors, perm=[0, 1, 2])\n",
    "       \n",
    "\n",
    "        # Project centered data onto top principal components\n",
    "        projected = tf.matmul(centered, top_eigenvectors)\n",
    "        \n",
    "        # Reshape projected data and return as output\n",
    "        output_shape = tf.concat([tf.shape(x)[:-1], [self.n_components]], axis=0)\n",
    "        #output = tf.reshape(projected, shape=(-1, *self.output_shape))\n",
    "        output = tf.reshape(projected, output_shape)\n",
    "        return output\n",
    "\n",
    "\n",
    "    def compute_output_shape(self, input_shape):\n",
    "        return tuple(input_shape[:-1]) + (self.n_components,)\n",
    "\n",
    "    def get_config(self):\n",
    "        config = super(PCALayer, self).get_config()\n",
    "        config.update({'n_components': self.n_components})\n",
    "        return config"
   ]
  },
  {
   "cell_type": "code",
   "execution_count": 4,
   "id": "c5e8bbc2",
   "metadata": {},
   "outputs": [],
   "source": [
    "def evaluate_model_for_dataset(X_test, Y_test, model_name, dataset_name, custom_layer=False):\n",
    "    img_height = 256\n",
    "    img_width = 256    \n",
    "    \n",
    "    result_folder_name = str(model_name) + \"_\" + str(dataset_name)\n",
    "    root_dir = os.path.normpath(os.getcwd() + os.sep + os.pardir)\n",
    "    model_path = os.path.join(root_dir,  \"models\", str(model_name), \"best_model.h5\")\n",
    "    tf.keras.backend.clear_session()\n",
    "    if custom_layer:\n",
    "        best_model = tf.keras.models.load_model(model_path, custom_objects={'PCALayer': PCALayer}, compile=False)\n",
    "        %time\n",
    "    else:\n",
    "        print(\"here\")\n",
    "        best_model = tf.keras.models.load_model(model_path,compile=False)\n",
    "        \n",
    "    print(f'=========Loaded {model_name} for {dataset_name}===========')\n",
    "    #saveResultsOnly(best_model, X_test, 4, result_folder_name)\n",
    "    results = testModel(best_model, X_test, Y_test, 4, result_folder_name)\n",
    "    print(\"==========Evaluation Completed============\")\n",
    "    #print(best_model.summary())\n",
    "    #return best_model\n"
   ]
  },
  {
   "cell_type": "code",
   "execution_count": 35,
   "id": "76af0bb9",
   "metadata": {},
   "outputs": [
    {
     "name": "stdout",
     "output_type": "stream",
     "text": [
      "CPU times: user 9 µs, sys: 3 µs, total: 12 µs\n",
      "Wall time: 25 µs\n",
      "=========Loaded PCA_Spatial_Boilnet_bce_dice_loss_new for levee===========\n",
      "13/13 [==============================] - 11s 385ms/step\n",
      "0.54183173\n",
      "0.66736126\n",
      "0.7038752 0.75655305 0.7292641\n",
      "Test Jacard Index : 0.54183173\n",
      "Test Dice Coefficient : 0.66736126\n",
      "Test iou_all :0.5421644702706518\n",
      "Test tversky : 0.6674965\n",
      "Test f1_score : 0.7292641\n",
      "==========Evaluation Completed============\n"
     ]
    }
   ],
   "source": [
    "evaluate_model_for_dataset(X_test, Y_test,  \"PCA_Spatial_Boilnet_bce_dice_loss_new\", \"levee\", custom_layer=True) # with Adam"
   ]
  },
  {
   "cell_type": "markdown",
   "id": "73332cc1",
   "metadata": {},
   "source": [
    "## Plot loss and accuracy graphs for pca based models"
   ]
  },
  {
   "cell_type": "code",
   "execution_count": 6,
   "id": "99ea206b",
   "metadata": {},
   "outputs": [],
   "source": [
    "import seaborn as sns\n",
    "import pandas as pd\n",
    "\n",
    "def plot_history_of_model(model_name, loss_function):\n",
    "    #result_folder_name = str(model_name) + \"_\" + str(dataset_name)\n",
    "    root_dir = os.path.normpath(os.getcwd() + os.sep + os.pardir)\n",
    "    csv_path = os.path.join(root_dir,  \"models\", str(model_name) + \"_\" + str(loss_function) , \"metrics_\" + str(model_name) + \".csv\")\n",
    "    history_df = pd.read_csv(csv_path)    \n",
    "    #sns.lineplot(data=history_df[['loss', 'val_loss']].iloc[1:30, :], linewidth=2)\n",
    "    \n",
    "    sns.lineplot(data=history_df[['loss', 'val_loss']], linewidth=2)\n",
    "    #sns.lineplot(data=history_df[['dice_coef', 'val_dice_coef']].iloc[1:30, :],  palette=['r', 'g'], linewidth=2)\n",
    "    sns.lineplot(data=history_df[['dice_coef', 'val_dice_coef']],  palette=['r', 'g'], linewidth=2)\n"
   ]
  },
  {
   "cell_type": "code",
   "execution_count": 34,
   "id": "c0b90693",
   "metadata": {},
   "outputs": [
    {
     "data": {
      "image/png": "[encoded data removed]",
      "text/plain": [
       "<Figure size 640x480 with 1 Axes>"
      ]
     },
     "metadata": {},
     "output_type": "display_data"
    }
   ],
   "source": [
    "plot_history_of_model(\"PCA_Spatial_Boilnet\", \"bce_dice_loss_new\") "
   ]
  },
  {
   "cell_type": "code",
   "execution_count": null,
   "id": "a5fb4080",
   "metadata": {},
   "outputs": [],
   "source": []
  }
 ],
 "metadata": {
  "kernelspec": {
   "display_name": "sandboil-tf",
   "language": "python",
   "name": "sandboil-tf"
  },
  "language_info": {
   "codemirror_mode": {
    "name": "ipython",
    "version": 3
   },
   "file_extension": ".py",
   "mimetype": "text/x-python",
   "name": "python",
   "nbconvert_exporter": "python",
   "pygments_lexer": "ipython3",
   "version": "3.10.8"
  }
 },
 "nbformat": 4,
 "nbformat_minor": 5
}
